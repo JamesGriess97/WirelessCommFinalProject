{
 "cells": [
  {
   "cell_type": "code",
   "execution_count": 2,
   "metadata": {},
   "outputs": [
    {
     "name": "stdout",
     "output_type": "stream",
     "text": [
      "chunk: 4\n",
      "finished in 16.300s\n"
     ]
    }
   ],
   "source": [
    "from pydub import AudioSegment\n",
    "from pydub.silence import split_on_silence\n",
    "from time import time\n",
    "\n",
    "def match_target_amplitude(aChunk, target_dBFS):\n",
    "    ''' Normalize given audio chunk '''\n",
    "    change_in_dBFS = target_dBFS - aChunk.dBFS\n",
    "    return aChunk.apply_gain(change_in_dBFS)\n",
    "\n",
    "song = AudioSegment.from_wav(\"demo.wav\")\n",
    "\n",
    "#split track where silence is 2 seconds or more and get chunks\n",
    "\n",
    "t0 = time()\n",
    "chunks = split_on_silence(song, \n",
    "    # must be silent for at least 1.5 seconds\n",
    "    min_silence_len=1500,\n",
    "\n",
    "    # consider it silent if quieter than -36 dBFS\n",
    "    silence_thresh=-36\n",
    ")\n",
    "\n",
    "print(\"chunk:\",len(chunks))\n",
    "#Process each chunk per requirements\n",
    "for i, chunk in enumerate(chunks):\n",
    "    #Create 0.5 seconds silence chunk\n",
    "    silence_chunk = AudioSegment.silent(duration=500)\n",
    "\n",
    "    #Add  0.5 sec silence to beginning and end of audio chunk\n",
    "    audio_chunk = silence_chunk + chunk + silence_chunk\n",
    "\n",
    "    #Normalize each audio chunk\n",
    "    normalized_chunk = match_target_amplitude(audio_chunk, -20.0)\n",
    "\n",
    "    #Export audio chunk with new bitrate\n",
    "    #print(\"exporting chunk{0}.mp3\".format(i) )\n",
    "    normalized_chunk.export(\".//demo//chunk{0}.wav\".format(i), bitrate='192k', format=\"wav\")\n",
    "    \n",
    "print(\"finished in %0.3fs\" % (time() - t0))\n"
   ]
  },
  {
   "cell_type": "code",
   "execution_count": null,
   "metadata": {},
   "outputs": [],
   "source": []
  }
 ],
 "metadata": {
  "kernelspec": {
   "display_name": "Python 3",
   "language": "python",
   "name": "python3"
  },
  "language_info": {
   "codemirror_mode": {
    "name": "ipython",
    "version": 3
   },
   "file_extension": ".py",
   "mimetype": "text/x-python",
   "name": "python",
   "nbconvert_exporter": "python",
   "pygments_lexer": "ipython3",
   "version": "3.7.1"
  }
 },
 "nbformat": 4,
 "nbformat_minor": 2
}
